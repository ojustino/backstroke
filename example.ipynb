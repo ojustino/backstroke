{
 "cells": [
  {
   "cell_type": "markdown",
   "metadata": {},
   "source": [
    "# A how-to for creating portfolios and simulating strategies."
   ]
  },
  {
   "cell_type": "code",
   "execution_count": 1,
   "metadata": {},
   "outputs": [],
   "source": [
    "from simulator import HistoricalSimulator\n",
    "from strategies import SMAStrategy, VolTargetStrategy\n",
    "from portfolio_maker import PortfolioMaker"
   ]
  },
  {
   "cell_type": "code",
   "execution_count": 2,
   "metadata": {},
   "outputs": [],
   "source": [
    "from datetime import datetime, timedelta\n",
    "import pickle"
   ]
  },
  {
   "cell_type": "markdown",
   "metadata": {},
   "source": [
    "## *experimenting with `PortfolioMaker`*"
   ]
  },
  {
   "cell_type": "code",
   "execution_count": 3,
   "metadata": {},
   "outputs": [],
   "source": [
    "pf = PortfolioMaker(0, relative_core_frac=False)"
   ]
  },
  {
   "cell_type": "code",
   "execution_count": 4,
   "metadata": {},
   "outputs": [
    {
     "data": {
      "text/plain": [
       "{'VUG': {'label': 'core', 'fraction': 0.5},\n",
       " 'VTV': {'label': 'core', 'fraction': 0.05},\n",
       " 'VO': {'label': 'core', 'fraction': 0.15},\n",
       " 'EFG': {'label': 'core', 'fraction': 0.15},\n",
       " 'VBIIX': {'label': 'core', 'fraction': 0.15},\n",
       " 'ISHIX': {'label': 'core', 'fraction': 0}}"
      ]
     },
     "execution_count": 4,
     "metadata": {},
     "output_type": "execute_result"
    }
   ],
   "source": [
    "# add core assets\n",
    "pf.add_ticker('VUG', .5, label='core'), # us, large-cap growth\n",
    "pf.add_ticker('VTV', .05, label='core'), # us, large-cap growth\n",
    "pf.add_ticker('VO', .15, label='core'), # us, mid-cap blend\n",
    "pf.add_ticker('EFG', .15, label='core'), # intl, large-cap growth\n",
    "pf.add_ticker('VBIIX', .15, label='core'), # us, highly rated interm. bonds\n",
    "pf.add_ticker('ISHIX', 0, label='core'), # us, corp-grade bond\n",
    "\n",
    "pf.assets"
   ]
  },
  {
   "cell_type": "code",
   "execution_count": 5,
   "metadata": {},
   "outputs": [
    {
     "data": {
      "text/plain": [
       "{'VUG': {'label': 'core', 'fraction': 0.5},\n",
       " 'VTV': {'label': 'core', 'fraction': 0.05},\n",
       " 'VO': {'label': 'core', 'fraction': 0.15},\n",
       " 'EFG': {'label': 'core', 'fraction': 0.15},\n",
       " 'VBIIX': {'label': 'core', 'fraction': 0.15},\n",
       " 'ISHIX': {'label': 'core', 'fraction': 0},\n",
       " 'SSO': {'label': 'satellite', 'in_mkt': True},\n",
       " 'TLT': {'label': 'satellite', 'in_mkt': True}}"
      ]
     },
     "execution_count": 5,
     "metadata": {},
     "output_type": "execute_result"
    }
   ],
   "source": [
    "# add satellite assets\n",
    "\n",
    "pf.add_ticker('SSO', label='satellite', in_market=True) # leveraged 2x to S&P 500\n",
    "pf.add_ticker('TLT', label='satellite', in_market=True)\n",
    "# long-term (20+ yr.) treasury bonds\n",
    "\n",
    "pf.assets"
   ]
  },
  {
   "cell_type": "code",
   "execution_count": 6,
   "metadata": {},
   "outputs": [
    {
     "name": "stdout",
     "output_type": "stream",
     "text": [
      "core fractions reset relative to `sat_frac` value\n",
      "core fractions adjusted relative to new `sat_frac` value\n"
     ]
    },
    {
     "data": {
      "text/plain": [
       "{'VUG': {'label': 'core', 'fraction': 0.3},\n",
       " 'VTV': {'label': 'core', 'fraction': 0.03},\n",
       " 'VO': {'label': 'core', 'fraction': 0.09},\n",
       " 'EFG': {'label': 'core', 'fraction': 0.09},\n",
       " 'VBIIX': {'label': 'core', 'fraction': 0.09},\n",
       " 'ISHIX': {'label': 'core', 'fraction': 0.0},\n",
       " 'SSO': {'label': 'satellite', 'in_mkt': True},\n",
       " 'TLT': {'label': 'satellite', 'in_mkt': True}}"
      ]
     },
     "execution_count": 6,
     "metadata": {},
     "output_type": "execute_result"
    }
   ],
   "source": [
    "# editing sat_frac will change core asset fractions when relative_core_frac==True\n",
    "pf.relative_core_frac = True\n",
    "pf.sat_frac = .4\n",
    "\n",
    "pf.assets"
   ]
  },
  {
   "cell_type": "code",
   "execution_count": 7,
   "metadata": {},
   "outputs": [
    {
     "data": {
      "text/plain": [
       "{'VUG': {'label': 'core', 'fraction': 0.3},\n",
       " 'VTV': {'label': 'core', 'fraction': 0.03},\n",
       " 'VO': {'label': 'core', 'fraction': 0.09},\n",
       " 'EFG': {'label': 'core', 'fraction': 0.09},\n",
       " 'VBIIX': {'label': 'core', 'fraction': 0.09},\n",
       " 'ISHIX': {'label': 'core', 'fraction': 0.03},\n",
       " 'SSO': {'label': 'satellite', 'in_mkt': True},\n",
       " 'TLT': {'label': 'satellite', 'in_mkt': False}}"
      ]
     },
     "execution_count": 7,
     "metadata": {},
     "output_type": "execute_result"
    }
   ],
   "source": [
    "# if you want to change an existing core asset...\n",
    "pf.edit_ticker_fraction('ISHIX', .05)\n",
    "\n",
    "# if you want to change an existing satellite asset...\n",
    "pf.edit_ticker_mkt_status('TLT', False)\n",
    "\n",
    "pf.assets"
   ]
  },
  {
   "cell_type": "code",
   "execution_count": 8,
   "metadata": {
    "scrolled": true
   },
   "outputs": [
    {
     "name": "stdout",
     "output_type": "stream",
     "text": [
      "core assets and target holding fraction(s):\n",
      "30.00000% in VUG\n",
      "3.00000% in VTV\n",
      "9.00000% in VO\n",
      "9.00000% in EFG\n",
      "9.00000% in VBIIX\n",
      "3.00000% in ISHIX\n",
      "*** 63.00000% in core overall ***\n",
      "----------------\n",
      "satellite assets and target holding fraction(s):\n",
      "in-market asset:     SSO\n",
      "out-of-market asset: TLT\n",
      "*** 40.00000% in satellite overall ***\n",
      "----------------\n"
     ]
    },
    {
     "ename": "ValueError",
     "evalue": "Make sure core and satellite fractions add up to 1 (100%) before moving on to simulations.",
     "output_type": "error",
     "traceback": [
      "\u001b[0;31m---------------------------------------------------------------------------\u001b[0m",
      "\u001b[0;31mValueError\u001b[0m                                Traceback (most recent call last)",
      "\u001b[0;32m<ipython-input-8-804fb23d647c>\u001b[0m in \u001b[0;36m<module>\u001b[0;34m\u001b[0m\n\u001b[1;32m      2\u001b[0m \u001b[0;31m# this PortfolioMaker instance is ready for use in a simulation\u001b[0m\u001b[0;34m\u001b[0m\u001b[0;34m\u001b[0m\u001b[0;34m\u001b[0m\u001b[0m\n\u001b[1;32m      3\u001b[0m \u001b[0;31m# (error thrown here intentionally)\u001b[0m\u001b[0;34m\u001b[0m\u001b[0;34m\u001b[0m\u001b[0;34m\u001b[0m\u001b[0m\n\u001b[0;32m----> 4\u001b[0;31m \u001b[0mpf\u001b[0m\u001b[0;34m.\u001b[0m\u001b[0mcheck_assets\u001b[0m\u001b[0;34m(\u001b[0m\u001b[0;34m)\u001b[0m\u001b[0;34m\u001b[0m\u001b[0;34m\u001b[0m\u001b[0m\n\u001b[0m",
      "\u001b[0;32m/media/sf_forOSinOS/portfolio_maker.py\u001b[0m in \u001b[0;36mcheck_assets\u001b[0;34m(self)\u001b[0m\n\u001b[1;32m    379\u001b[0m \u001b[0;34m\u001b[0m\u001b[0m\n\u001b[1;32m    380\u001b[0m         \u001b[0;32mif\u001b[0m \u001b[0mnp\u001b[0m\u001b[0;34m.\u001b[0m\u001b[0mround\u001b[0m\u001b[0;34m(\u001b[0m\u001b[0mcore_frac\u001b[0m \u001b[0;34m+\u001b[0m \u001b[0mself\u001b[0m\u001b[0;34m.\u001b[0m\u001b[0msat_frac\u001b[0m\u001b[0;34m,\u001b[0m \u001b[0;36m5\u001b[0m\u001b[0;34m)\u001b[0m \u001b[0;34m!=\u001b[0m \u001b[0;36m1\u001b[0m\u001b[0;34m:\u001b[0m\u001b[0;34m\u001b[0m\u001b[0;34m\u001b[0m\u001b[0m\n\u001b[0;32m--> 381\u001b[0;31m             raise ValueError('Make sure core and satellite fractions add up '\n\u001b[0m\u001b[1;32m    382\u001b[0m                              'to 1 (100%) before moving on to simulations.')\n\u001b[1;32m    383\u001b[0m \u001b[0;34m\u001b[0m\u001b[0m\n",
      "\u001b[0;31mValueError\u001b[0m: Make sure core and satellite fractions add up to 1 (100%) before moving on to simulations."
     ]
    }
   ],
   "source": [
    "# if no error is thrown from this method,\n",
    "# this PortfolioMaker instance is ready for use in a simulation\n",
    "# (error thrown here intentionally)\n",
    "pf.check_assets()"
   ]
  },
  {
   "cell_type": "code",
   "execution_count": 9,
   "metadata": {},
   "outputs": [],
   "source": [
    "# you can adjust fractions as shown above,\n",
    "# but here i'll just remove an asset\n",
    "pf.remove_ticker('VTV')"
   ]
  },
  {
   "cell_type": "code",
   "execution_count": 10,
   "metadata": {
    "scrolled": true
   },
   "outputs": [
    {
     "name": "stdout",
     "output_type": "stream",
     "text": [
      "core assets and target holding fraction(s):\n",
      "30.00000% in VUG\n",
      "9.00000% in VO\n",
      "9.00000% in EFG\n",
      "9.00000% in VBIIX\n",
      "3.00000% in ISHIX\n",
      "*** 60.00000% in core overall ***\n",
      "----------------\n",
      "satellite assets and target holding fraction(s):\n",
      "in-market asset:     SSO\n",
      "out-of-market asset: TLT\n",
      "*** 40.00000% in satellite overall ***\n",
      "----------------\n",
      "-----passed-----\n",
      "----------------\n",
      "benchmark assets and target holding fraction(s):\n",
      "None.\n",
      "----------------\n",
      "-----passed-----\n",
      "\n"
     ]
    }
   ],
   "source": [
    "pf.check_assets()"
   ]
  },
  {
   "cell_type": "markdown",
   "metadata": {},
   "source": [
    "## *simulating a strategy*\n",
    "\n",
    "I'll demonstrate a simulation with `SMAStrategy` (SMA for simple moving average). It places 100% of the portfolio's satellite portion in either the in-market or out-of-market asset.\n",
    "\n",
    "It chooses between them by tracking some asset's price on rebalance days and comparing that to its 200 day simple moving average. It's a little more complicated than this, but roughly, if the tracked asset's price is 101% or more of its SMA, it buys into the in-market asset. Otherwise, it retreats into the out-of-market asset.\n",
    "\n",
    "**As such, the `SMAStrategy` class has a special requirement that one of the tickers in `assets` has a key named `'track'` whose value is `True`.**"
   ]
  },
  {
   "cell_type": "code",
   "execution_count": 11,
   "metadata": {},
   "outputs": [],
   "source": [
    "# i'll set SPY as the tracked asset and put it together with AGG\n",
    "# to create a benchmark portfolio whose result you can compare to\n",
    "# the core-satellite when the simulation is done\n",
    "pf.add_ticker('SPY', .6, label='benchmark', track=True)\n",
    "pf.add_ticker('AGG', .4, label='benchmark')"
   ]
  },
  {
   "cell_type": "code",
   "execution_count": 12,
   "metadata": {
    "scrolled": true
   },
   "outputs": [
    {
     "name": "stdout",
     "output_type": "stream",
     "text": [
      "core assets and target holding fraction(s):\n",
      "30.00000% in VUG\n",
      "9.00000% in VO\n",
      "9.00000% in EFG\n",
      "9.00000% in VBIIX\n",
      "3.00000% in ISHIX\n",
      "*** 60.00000% in core overall ***\n",
      "----------------\n",
      "satellite assets and target holding fraction(s):\n",
      "in-market asset:     SSO\n",
      "out-of-market asset: TLT\n",
      "*** 40.00000% in satellite overall ***\n",
      "----------------\n",
      "-----passed-----\n",
      "----------------\n",
      "benchmark assets and target holding fraction(s):\n",
      "60.00000% in SPY\n",
      "40.00000% in AGG\n",
      "*** 100.00000% in benchmark overall ***\n",
      "----------------\n",
      "-----passed-----\n",
      "\n",
      "VUG from 2006-08-11 to 2015-06-01...\n",
      "VO from 2006-08-11 to 2015-06-01...\n",
      "EFG from 2006-08-11 to 2015-06-01...\n",
      "VBIIX from 2006-08-11 to 2015-06-01...\n",
      "ISHIX from 2006-08-11 to 2015-06-01...\n",
      "SSO from 2006-08-11 to 2015-06-01...\n",
      "TLT from 2006-08-11 to 2015-06-01...\n",
      "SPY from 2006-08-11 to 2015-06-01...\n",
      "AGG from 2006-08-11 to 2015-06-01...\n",
      "sat [ 7  9 11  1  3] \n",
      "tot [5]\n",
      "[ 5  6  7  8  9 10 11 12] 2007\n",
      "[ 1  2  3  4  5  6  7  8  9 10 11 12] 2008\n",
      "[ 1  2  3  4  5  6  7  8  9 10 11 12] 2009\n",
      "[ 1  2  3  4  5  6  7  8  9 10 11 12] 2010\n",
      "[ 1  2  3  4  5  6  7  8  9 10 11 12] 2011\n",
      "[ 1  2  3  4  5  6  7  8  9 10 11 12] 2012\n",
      "[ 1  2  3  4  5  6  7  8  9 10 11 12] 2013\n",
      "[ 1  2  3  4  5  6  7  8  9 10 11 12] 2014\n",
      "[1 2 3 4 5] 2015\n"
     ]
    }
   ],
   "source": [
    "# check docstrings for SMAStrategy() and HistoricalSimulator()\n",
    "# to learn more about arguments\n",
    "smas = SMAStrategy(pf, burn_in=200,\n",
    "                   start_date=datetime(2007, 6, 1),\n",
    "                   end_date=datetime(2015, 6, 1),\n",
    "                   sat_rb_freq=6, tot_rb_freq=1, cash=1e4,\n",
    "                   reinvest_dividends=True)"
   ]
  },
  {
   "cell_type": "code",
   "execution_count": 13,
   "metadata": {},
   "outputs": [
    {
     "name": "stdout",
     "output_type": "stream",
     "text": [
      "VUG asset dict's keys: ['label', 'fraction', 'df', 'shares']\n",
      "VO asset dict's keys: ['label', 'fraction', 'df', 'shares']\n",
      "EFG asset dict's keys: ['label', 'fraction', 'df', 'shares']\n",
      "VBIIX asset dict's keys: ['label', 'fraction', 'df', 'shares']\n",
      "ISHIX asset dict's keys: ['label', 'fraction', 'df', 'shares']\n",
      "SSO asset dict's keys: ['label', 'in_mkt', 'df', 'shares']\n",
      "TLT asset dict's keys: ['label', 'in_mkt', 'df', 'shares']\n",
      "SPY asset dict's keys: ['label', 'fraction', 'track', 'df', 'shares']\n",
      "AGG asset dict's keys: ['label', 'fraction', 'df', 'shares']\n"
     ]
    }
   ],
   "source": [
    "# assets is the main object -- it's basically PorfolioMaker's assets\n",
    "# dict, but each ticker's dict adds new keys that contain a DataFrame\n",
    "# with price data ('df') and how many shares of the asset you currently\n",
    "# own ('shares')\n",
    "for key, val in smas.assets.items():\n",
    "    print(f\"{key} asset dict's keys: {[k for k in val.keys()]}\")"
   ]
  },
  {
   "cell_type": "code",
   "execution_count": 14,
   "metadata": {},
   "outputs": [
    {
     "data": {
      "text/html": [
       "<div>\n",
       "<style scoped>\n",
       "    .dataframe tbody tr th:only-of-type {\n",
       "        vertical-align: middle;\n",
       "    }\n",
       "\n",
       "    .dataframe tbody tr th {\n",
       "        vertical-align: top;\n",
       "    }\n",
       "\n",
       "    .dataframe thead th {\n",
       "        text-align: right;\n",
       "    }\n",
       "</style>\n",
       "<table border=\"1\" class=\"dataframe\">\n",
       "  <thead>\n",
       "    <tr style=\"text-align: right;\">\n",
       "      <th></th>\n",
       "      <th>adjClose</th>\n",
       "      <th>adjHigh</th>\n",
       "      <th>adjLow</th>\n",
       "      <th>adjOpen</th>\n",
       "      <th>adjVolume</th>\n",
       "      <th>close</th>\n",
       "      <th>date</th>\n",
       "      <th>divCash</th>\n",
       "      <th>high</th>\n",
       "      <th>low</th>\n",
       "      <th>open</th>\n",
       "      <th>splitFactor</th>\n",
       "      <th>volume</th>\n",
       "    </tr>\n",
       "  </thead>\n",
       "  <tbody>\n",
       "    <tr>\n",
       "      <th>200</th>\n",
       "      <td>53.767569</td>\n",
       "      <td>53.852725</td>\n",
       "      <td>53.588741</td>\n",
       "      <td>53.776084</td>\n",
       "      <td>99900</td>\n",
       "      <td>63.14</td>\n",
       "      <td>2007-05-31 00:00:00+00:00</td>\n",
       "      <td>0.0</td>\n",
       "      <td>63.240</td>\n",
       "      <td>62.93</td>\n",
       "      <td>63.15</td>\n",
       "      <td>1.0</td>\n",
       "      <td>99900</td>\n",
       "    </tr>\n",
       "    <tr>\n",
       "      <th>201</th>\n",
       "      <td>53.920850</td>\n",
       "      <td>54.091162</td>\n",
       "      <td>53.827178</td>\n",
       "      <td>53.886787</td>\n",
       "      <td>85800</td>\n",
       "      <td>63.32</td>\n",
       "      <td>2007-06-01 00:00:00+00:00</td>\n",
       "      <td>0.0</td>\n",
       "      <td>63.520</td>\n",
       "      <td>63.21</td>\n",
       "      <td>63.28</td>\n",
       "      <td>1.0</td>\n",
       "      <td>85800</td>\n",
       "    </tr>\n",
       "    <tr>\n",
       "      <th>202</th>\n",
       "      <td>54.074131</td>\n",
       "      <td>54.104787</td>\n",
       "      <td>53.801631</td>\n",
       "      <td>53.818662</td>\n",
       "      <td>102400</td>\n",
       "      <td>63.50</td>\n",
       "      <td>2007-06-04 00:00:00+00:00</td>\n",
       "      <td>0.0</td>\n",
       "      <td>63.536</td>\n",
       "      <td>63.18</td>\n",
       "      <td>63.20</td>\n",
       "      <td>1.0</td>\n",
       "      <td>102400</td>\n",
       "    </tr>\n",
       "    <tr>\n",
       "      <th>203</th>\n",
       "      <td>53.861240</td>\n",
       "      <td>53.980459</td>\n",
       "      <td>53.648350</td>\n",
       "      <td>53.937881</td>\n",
       "      <td>137700</td>\n",
       "      <td>63.25</td>\n",
       "      <td>2007-06-05 00:00:00+00:00</td>\n",
       "      <td>0.0</td>\n",
       "      <td>63.390</td>\n",
       "      <td>63.00</td>\n",
       "      <td>63.34</td>\n",
       "      <td>1.0</td>\n",
       "      <td>137700</td>\n",
       "    </tr>\n",
       "    <tr>\n",
       "      <th>204</th>\n",
       "      <td>53.265147</td>\n",
       "      <td>53.716475</td>\n",
       "      <td>53.239601</td>\n",
       "      <td>53.716475</td>\n",
       "      <td>101200</td>\n",
       "      <td>62.55</td>\n",
       "      <td>2007-06-06 00:00:00+00:00</td>\n",
       "      <td>0.0</td>\n",
       "      <td>63.080</td>\n",
       "      <td>62.52</td>\n",
       "      <td>63.08</td>\n",
       "      <td>1.0</td>\n",
       "      <td>101200</td>\n",
       "    </tr>\n",
       "  </tbody>\n",
       "</table>\n",
       "</div>"
      ],
      "text/plain": [
       "      adjClose    adjHigh     adjLow    adjOpen  adjVolume  close  \\\n",
       "200  53.767569  53.852725  53.588741  53.776084      99900  63.14   \n",
       "201  53.920850  54.091162  53.827178  53.886787      85800  63.32   \n",
       "202  54.074131  54.104787  53.801631  53.818662     102400  63.50   \n",
       "203  53.861240  53.980459  53.648350  53.937881     137700  63.25   \n",
       "204  53.265147  53.716475  53.239601  53.716475     101200  62.55   \n",
       "\n",
       "                         date  divCash    high    low   open  splitFactor  \\\n",
       "200 2007-05-31 00:00:00+00:00      0.0  63.240  62.93  63.15          1.0   \n",
       "201 2007-06-01 00:00:00+00:00      0.0  63.520  63.21  63.28          1.0   \n",
       "202 2007-06-04 00:00:00+00:00      0.0  63.536  63.18  63.20          1.0   \n",
       "203 2007-06-05 00:00:00+00:00      0.0  63.390  63.00  63.34          1.0   \n",
       "204 2007-06-06 00:00:00+00:00      0.0  63.080  62.52  63.08          1.0   \n",
       "\n",
       "     volume  \n",
       "200   99900  \n",
       "201   85800  \n",
       "202  102400  \n",
       "203  137700  \n",
       "204  101200  "
      ]
     },
     "execution_count": 14,
     "metadata": {},
     "output_type": "execute_result"
    }
   ],
   "source": [
    "# recall that the first approximately `burn_in` indices (~200 in this example)\n",
    "# come before the specified start date so there's enough data to calculate the\n",
    "# `burn_in`-day simple moving average when the real start date arrives\n",
    "smas.assets['VUG']['df'][smas.burn_in:].head()"
   ]
  },
  {
   "cell_type": "code",
   "execution_count": 15,
   "metadata": {},
   "outputs": [],
   "source": [
    "# you can only run one simulation per class instance,\n",
    "# so it might be prudent to make a copy before doing so.\n",
    "smas_base = pickle.loads(pickle.dumps(smas, -1))"
   ]
  },
  {
   "cell_type": "code",
   "execution_count": 16,
   "metadata": {
    "scrolled": true
   },
   "outputs": [],
   "source": [
    "# run the simulation (set verbose=True to see trades happening behind the scenes)\n",
    "smas.begin_time_loop()"
   ]
  },
  {
   "cell_type": "code",
   "execution_count": 17,
   "metadata": {},
   "outputs": [
    {
     "name": "stdout",
     "output_type": "stream",
     "text": [
      "end date main portfolio value: $28,891.35\n",
      "end date main portfolio holdings: \n",
      "VUG: 84.1, VO: 21.2, EFG: 38.9, VBIIX: 258.8, ISHIX: 111.7, SSO: 174.8, TLT: 0.0\n",
      "\n",
      "end date benchmark portfolio value: $21,038.41\n",
      "end date benchmark portfolio holdings: \n",
      "SPY: 65.0, AGG: 86.4\n"
     ]
    },
    {
     "data": {
      "image/png": "[encoded data removed]",
      "text/plain": [
       "<Figure size 720x720 with 1 Axes>"
      ]
     },
     "metadata": {
      "needs_background": "light"
     },
     "output_type": "display_data"
    }
   ],
   "source": [
    "# plot the results, and compare to the more conservative benchmark\n",
    "smas.plot_results()"
   ]
  },
  {
   "cell_type": "markdown",
   "metadata": {},
   "source": [
    "**The idea from here is to try out different instances of `SMAStrategy` (or whichever strategy class) and vary assets, core/satellite allocations, dates, rebalance frequencies, etc. to see what would have led to the best historical results.**"
   ]
  }
 ],
 "metadata": {
  "kernelspec": {
   "display_name": "Python 3",
   "language": "python",
   "name": "python3"
  },
  "language_info": {
   "codemirror_mode": {
    "name": "ipython",
    "version": 3
   },
   "file_extension": ".py",
   "mimetype": "text/x-python",
   "name": "python",
   "nbconvert_exporter": "python",
   "pygments_lexer": "ipython3",
   "version": "3.7.3"
  }
 },
 "nbformat": 4,
 "nbformat_minor": 2
}
