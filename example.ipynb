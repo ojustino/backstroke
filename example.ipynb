{
 "cells": [
  {
   "cell_type": "markdown",
   "metadata": {},
   "source": [
    "# A how-to for creating portfolios and simulating strategies."
   ]
  },
  {
   "cell_type": "code",
   "execution_count": 1,
   "metadata": {},
   "outputs": [],
   "source": [
    "from simulator import HistoricalSimulator\n",
    "from strategies import SMAStrategy, VolTargetStrategy\n",
    "from portfolio_maker import PortfolioMaker"
   ]
  },
  {
   "cell_type": "code",
   "execution_count": 2,
   "metadata": {},
   "outputs": [],
   "source": [
    "from datetime import datetime, timedelta\n",
    "from types import MethodType\n",
    "import matplotlib as mpl\n",
    "import matplotlib.pyplot as plt\n",
    "import numpy as np\n",
    "import pandas as pd\n",
    "import requests\n",
    "import time"
   ]
  },
  {
   "cell_type": "markdown",
   "metadata": {},
   "source": [
    "## *experimenting with `PortfolioMaker`*"
   ]
  },
  {
   "cell_type": "code",
   "execution_count": 3,
   "metadata": {},
   "outputs": [],
   "source": [
    "pf = PortfolioMaker(0, relative_core_frac=True)"
   ]
  },
  {
   "cell_type": "code",
   "execution_count": 4,
   "metadata": {},
   "outputs": [
    {
     "data": {
      "text/plain": [
       "{'NFLX': {'label': 'core', 'fraction': 0.4},\n",
       " 'AAPL': {'label': 'core', 'fraction': 0.15},\n",
       " 'MSFT': {'label': 'core', 'fraction': 0.15},\n",
       " 'DIS': {'label': 'core', 'fraction': 0.1}}"
      ]
     },
     "execution_count": 4,
     "metadata": {},
     "output_type": "execute_result"
    }
   ],
   "source": [
    "# add core assets\n",
    "pf.add_ticker('NFLX', .4)\n",
    "pf.add_ticker('AAPL', .15)\n",
    "pf.add_ticker('MSFT', .15)\n",
    "pf.add_ticker('DIS', .1)\n",
    "\n",
    "pf.assets"
   ]
  },
  {
   "cell_type": "code",
   "execution_count": 5,
   "metadata": {},
   "outputs": [
    {
     "data": {
      "text/plain": [
       "{'NFLX': {'label': 'core', 'fraction': 0.4},\n",
       " 'AAPL': {'label': 'core', 'fraction': 0.15},\n",
       " 'MSFT': {'label': 'core', 'fraction': 0.15},\n",
       " 'DIS': {'label': 'core', 'fraction': 0.1},\n",
       " 'AMZN': {'label': 'satellite', 'in_mkt': True},\n",
       " 'VBMFX': {'label': 'satellite', 'in_mkt': True}}"
      ]
     },
     "execution_count": 5,
     "metadata": {},
     "output_type": "execute_result"
    }
   ],
   "source": [
    "# add satellite assets\n",
    "pf.add_ticker('AMZN', label='satellite', in_market=True)\n",
    "pf.add_ticker('VBMFX', label='satellite', in_market=True)\n",
    "\n",
    "pf.assets"
   ]
  },
  {
   "cell_type": "code",
   "execution_count": 6,
   "metadata": {
    "scrolled": true
   },
   "outputs": [
    {
     "name": "stdout",
     "output_type": "stream",
     "text": [
      "core fractions adjusted relative to new `sat_frac` value\n"
     ]
    },
    {
     "data": {
      "text/plain": [
       "{'NFLX': {'label': 'core', 'fraction': 0.32},\n",
       " 'AAPL': {'label': 'core', 'fraction': 0.12},\n",
       " 'MSFT': {'label': 'core', 'fraction': 0.12},\n",
       " 'DIS': {'label': 'core', 'fraction': 0.08},\n",
       " 'AMZN': {'label': 'satellite', 'in_mkt': True},\n",
       " 'VBMFX': {'label': 'satellite', 'in_mkt': True}}"
      ]
     },
     "execution_count": 6,
     "metadata": {},
     "output_type": "execute_result"
    }
   ],
   "source": [
    "# editing sat_frac will change core asset fractions when relative_core_frac==True\n",
    "pf.sat_frac = .2\n",
    "\n",
    "pf.assets"
   ]
  },
  {
   "cell_type": "code",
   "execution_count": 7,
   "metadata": {},
   "outputs": [
    {
     "data": {
      "text/plain": [
       "{'NFLX': {'label': 'core', 'fraction': 0.4},\n",
       " 'AAPL': {'label': 'core', 'fraction': 0.12},\n",
       " 'MSFT': {'label': 'core', 'fraction': 0.12},\n",
       " 'DIS': {'label': 'core', 'fraction': 0.08},\n",
       " 'AMZN': {'label': 'satellite', 'in_mkt': True},\n",
       " 'VBMFX': {'label': 'satellite', 'in_mkt': False}}"
      ]
     },
     "execution_count": 7,
     "metadata": {},
     "output_type": "execute_result"
    }
   ],
   "source": [
    "# if you want to change an existing core asset...\n",
    "pf.edit_ticker_fraction('NFLX', .5)\n",
    "\n",
    "# if you want to change an existing satellite asset...\n",
    "pf.edit_ticker_mkt_status('VBMFX', False)\n",
    "\n",
    "pf.assets"
   ]
  },
  {
   "cell_type": "code",
   "execution_count": 8,
   "metadata": {},
   "outputs": [
    {
     "name": "stdout",
     "output_type": "stream",
     "text": [
      "core fractions reset to their originally entered values\n"
     ]
    },
    {
     "data": {
      "text/plain": [
       "{'NFLX': {'label': 'core', 'fraction': 0.5},\n",
       " 'AAPL': {'label': 'core', 'fraction': 0.15},\n",
       " 'MSFT': {'label': 'core', 'fraction': 0.15},\n",
       " 'DIS': {'label': 'core', 'fraction': 0.1},\n",
       " 'AMZN': {'label': 'satellite', 'in_mkt': True},\n",
       " 'VBMFX': {'label': 'satellite', 'in_mkt': False}}"
      ]
     },
     "execution_count": 8,
     "metadata": {},
     "output_type": "execute_result"
    }
   ],
   "source": [
    "# switch whether changing sat_frac adjusts core asset fractions\n",
    "pf.relative_core_frac = False\n",
    "\n",
    "pf.assets"
   ]
  },
  {
   "cell_type": "code",
   "execution_count": 9,
   "metadata": {
    "scrolled": true
   },
   "outputs": [
    {
     "name": "stdout",
     "output_type": "stream",
     "text": [
      "core assets and target holding fraction(s):\n",
      "50.00000% in NFLX\n",
      "15.00000% in AAPL\n",
      "15.00000% in MSFT\n",
      "10.00000% in DIS\n",
      "*** 90.00000% in core overall ***\n",
      "----------------\n",
      "satellite assets and target holding fraction(s):\n",
      "in-market asset:     AMZN\n",
      "out-of-market asset: VBMFX\n",
      "*** 20.00000% in satellite overall ***\n",
      "----------------\n"
     ]
    },
    {
     "ename": "ValueError",
     "evalue": "Make sure core and satellite fractions add up to 1 (100%) before moving on to simulations.",
     "output_type": "error",
     "traceback": [
      "\u001b[0;31m---------------------------------------------------------------------------\u001b[0m",
      "\u001b[0;31mValueError\u001b[0m                                Traceback (most recent call last)",
      "\u001b[0;32m<ipython-input-9-f915146f7702>\u001b[0m in \u001b[0;36m<module>\u001b[0;34m\u001b[0m\n\u001b[1;32m      2\u001b[0m \u001b[0;31m# this PortfolioMaker instance is ready for use in a simulation\u001b[0m\u001b[0;34m\u001b[0m\u001b[0;34m\u001b[0m\u001b[0;34m\u001b[0m\u001b[0m\n\u001b[1;32m      3\u001b[0m \u001b[0;31m# (error thrown here on purpose)\u001b[0m\u001b[0;34m\u001b[0m\u001b[0;34m\u001b[0m\u001b[0;34m\u001b[0m\u001b[0m\n\u001b[0;32m----> 4\u001b[0;31m \u001b[0mpf\u001b[0m\u001b[0;34m.\u001b[0m\u001b[0mcheck_assets\u001b[0m\u001b[0;34m(\u001b[0m\u001b[0;34m)\u001b[0m\u001b[0;34m\u001b[0m\u001b[0;34m\u001b[0m\u001b[0m\n\u001b[0m",
      "\u001b[0;32m/media/sf_forOSinOS/portfolio_maker.py\u001b[0m in \u001b[0;36mcheck_assets\u001b[0;34m(self)\u001b[0m\n\u001b[1;32m    377\u001b[0m \u001b[0;34m\u001b[0m\u001b[0m\n\u001b[1;32m    378\u001b[0m         \u001b[0;32mif\u001b[0m \u001b[0mnp\u001b[0m\u001b[0;34m.\u001b[0m\u001b[0mround\u001b[0m\u001b[0;34m(\u001b[0m\u001b[0mcore_frac\u001b[0m \u001b[0;34m+\u001b[0m \u001b[0mself\u001b[0m\u001b[0;34m.\u001b[0m\u001b[0msat_frac\u001b[0m\u001b[0;34m,\u001b[0m \u001b[0;36m5\u001b[0m\u001b[0;34m)\u001b[0m \u001b[0;34m!=\u001b[0m \u001b[0;36m1\u001b[0m\u001b[0;34m:\u001b[0m\u001b[0;34m\u001b[0m\u001b[0;34m\u001b[0m\u001b[0m\n\u001b[0;32m--> 379\u001b[0;31m             raise ValueError('Make sure core and satellite fractions add up '\n\u001b[0m\u001b[1;32m    380\u001b[0m                              'to 1 (100%) before moving on to simulations.')\n\u001b[1;32m    381\u001b[0m \u001b[0;34m\u001b[0m\u001b[0m\n",
      "\u001b[0;31mValueError\u001b[0m: Make sure core and satellite fractions add up to 1 (100%) before moving on to simulations."
     ]
    }
   ],
   "source": [
    "# if no error is thrown from this method\n",
    "# this PortfolioMaker instance is ready for use in a simulation\n",
    "# (error thrown here intentionally)\n",
    "pf.check_assets()"
   ]
  },
  {
   "cell_type": "code",
   "execution_count": 10,
   "metadata": {},
   "outputs": [],
   "source": [
    "# you can adjust fractions as shown above,\n",
    "# but here i'll just remove an asset\n",
    "pf.remove_ticker('DIS')"
   ]
  },
  {
   "cell_type": "code",
   "execution_count": 11,
   "metadata": {
    "scrolled": true
   },
   "outputs": [
    {
     "name": "stdout",
     "output_type": "stream",
     "text": [
      "core assets and target holding fraction(s):\n",
      "50.00000% in NFLX\n",
      "15.00000% in AAPL\n",
      "15.00000% in MSFT\n",
      "*** 80.00000% in core overall ***\n",
      "----------------\n",
      "satellite assets and target holding fraction(s):\n",
      "in-market asset:     AMZN\n",
      "out-of-market asset: VBMFX\n",
      "*** 20.00000% in satellite overall ***\n",
      "----------------\n",
      "-----passed-----\n",
      "----------------\n",
      "benchmark assets and target holding fraction(s):\n",
      "None.\n",
      "----------------\n",
      "-----passed-----\n",
      "\n"
     ]
    }
   ],
   "source": [
    "pf.check_assets()"
   ]
  },
  {
   "cell_type": "markdown",
   "metadata": {},
   "source": [
    "## *simulating a strategy*\n",
    "\n",
    "I'll demonstrate a simulation with `SMAStrategy` (SMA for simple moving average). It places 100% of the portfolio's satellite portion in either the in-market or out-of-market asset.\n",
    "\n",
    "It chooses between them by tracking some asset's price on rebalance days and comparing that to its 200 day simple moving average. It's a little more complicated than this, but roughly, if the tracked asset's price is 101% or more of its SMA, it buys into the in-market asset. Otherwise, it retreats into the out-of-market asset.\n",
    "\n",
    "**As such, the `SMAStrategy` class has a special requirement that one of the tickers in `assets` has a key named `'track'` whose value is `True`.**"
   ]
  },
  {
   "cell_type": "code",
   "execution_count": 12,
   "metadata": {},
   "outputs": [],
   "source": [
    "# i'll set SPY as the tracked asset and put it together with AGG\n",
    "# to create a benchmark portfolio whose result you can compare to\n",
    "# the core-satellite when the simulation is done\n",
    "pf.add_ticker('SPY', .6, label='benchmark', track=True)\n",
    "pf.add_ticker('AGG', .4, label='benchmark')"
   ]
  },
  {
   "cell_type": "code",
   "execution_count": 13,
   "metadata": {
    "scrolled": true
   },
   "outputs": [
    {
     "name": "stdout",
     "output_type": "stream",
     "text": [
      "core assets and target holding fraction(s):\n",
      "50.00000% in NFLX\n",
      "15.00000% in AAPL\n",
      "15.00000% in MSFT\n",
      "*** 80.00000% in core overall ***\n",
      "----------------\n",
      "satellite assets and target holding fraction(s):\n",
      "in-market asset:     AMZN\n",
      "out-of-market asset: VBMFX\n",
      "*** 20.00000% in satellite overall ***\n",
      "----------------\n",
      "-----passed-----\n",
      "----------------\n",
      "benchmark assets and target holding fraction(s):\n",
      "60.00000% in SPY\n",
      "40.00000% in AGG\n",
      "*** 100.00000% in benchmark overall ***\n",
      "----------------\n",
      "-----passed-----\n",
      "\n",
      "NFLX from 2012-03-13 to 2015-01-01...\n",
      "AAPL from 2012-03-13 to 2015-01-01...\n",
      "MSFT from 2012-03-13 to 2015-01-01...\n",
      "AMZN from 2012-03-13 to 2015-01-01...\n",
      "VBMFX from 2012-03-13 to 2015-01-01...\n",
      "SPY from 2012-03-13 to 2015-01-01...\n",
      "AGG from 2012-03-13 to 2015-01-01...\n",
      "sat [ 2  4  6  8 10] \n",
      "tot [12]\n",
      "[12] 2012\n",
      "[ 1  2  3  4  5  6  7  8  9 10 11 12] 2013\n",
      "[ 1  2  3  4  5  6  7  8  9 10 11 12] 2014\n",
      "[] 2015\n"
     ]
    }
   ],
   "source": [
    "# check code for SMAStrategy() and HistoricalSimulator()\n",
    "# to learn more about arguments; i'll write full descriptions soon\n",
    "smas = SMAStrategy(pf, burn_in=200,\n",
    "                   start_date=datetime(2013, 1, 1),\n",
    "                   end_date=datetime(2015, 1, 1),\n",
    "                   sat_rb_freq=6, tot_rb_freq=1, cash=1e4)"
   ]
  },
  {
   "cell_type": "code",
   "execution_count": 14,
   "metadata": {},
   "outputs": [
    {
     "name": "stdout",
     "output_type": "stream",
     "text": [
      "NFLX asset dict's keys: ['label', 'fraction', 'df', 'shares']\n",
      "AAPL asset dict's keys: ['label', 'fraction', 'df', 'shares']\n",
      "MSFT asset dict's keys: ['label', 'fraction', 'df', 'shares']\n",
      "AMZN asset dict's keys: ['label', 'in_mkt', 'df', 'shares']\n",
      "VBMFX asset dict's keys: ['label', 'in_mkt', 'df', 'shares']\n",
      "SPY asset dict's keys: ['label', 'fraction', 'track', 'df', 'shares']\n",
      "AGG asset dict's keys: ['label', 'fraction', 'df', 'shares']\n"
     ]
    }
   ],
   "source": [
    "# assets is the main object -- it's basically PorfolioMaker's assets\n",
    "# dict, but each ticker's dict adds new keys that contain a DataFrame\n",
    "# with price data ('df') and how many shares of the asset you currently\n",
    "# own ('shares')\n",
    "for key, val in smas.assets.items():\n",
    "    print(f\"{key} asset dict's keys: {[k for k in val.keys()]}\")"
   ]
  },
  {
   "cell_type": "code",
   "execution_count": 15,
   "metadata": {},
   "outputs": [
    {
     "data": {
      "text/html": [
       "<div>\n",
       "<style scoped>\n",
       "    .dataframe tbody tr th:only-of-type {\n",
       "        vertical-align: middle;\n",
       "    }\n",
       "\n",
       "    .dataframe tbody tr th {\n",
       "        vertical-align: top;\n",
       "    }\n",
       "\n",
       "    .dataframe thead th {\n",
       "        text-align: right;\n",
       "    }\n",
       "</style>\n",
       "<table border=\"1\" class=\"dataframe\">\n",
       "  <thead>\n",
       "    <tr style=\"text-align: right;\">\n",
       "      <th></th>\n",
       "      <th>adjClose</th>\n",
       "      <th>adjHigh</th>\n",
       "      <th>adjLow</th>\n",
       "      <th>adjOpen</th>\n",
       "      <th>adjVolume</th>\n",
       "      <th>close</th>\n",
       "      <th>date</th>\n",
       "      <th>divCash</th>\n",
       "      <th>high</th>\n",
       "      <th>low</th>\n",
       "      <th>open</th>\n",
       "      <th>splitFactor</th>\n",
       "      <th>volume</th>\n",
       "    </tr>\n",
       "  </thead>\n",
       "  <tbody>\n",
       "    <tr>\n",
       "      <th>200</th>\n",
       "      <td>12.761416</td>\n",
       "      <td>12.935701</td>\n",
       "      <td>12.699987</td>\n",
       "      <td>12.828559</td>\n",
       "      <td>11123011</td>\n",
       "      <td>89.33</td>\n",
       "      <td>2012-12-28 00:00:00+00:00</td>\n",
       "      <td>0.0</td>\n",
       "      <td>90.55</td>\n",
       "      <td>88.9000</td>\n",
       "      <td>89.80</td>\n",
       "      <td>1.0</td>\n",
       "      <td>1589000</td>\n",
       "    </tr>\n",
       "    <tr>\n",
       "      <th>201</th>\n",
       "      <td>13.227130</td>\n",
       "      <td>13.357129</td>\n",
       "      <td>12.715702</td>\n",
       "      <td>12.768559</td>\n",
       "      <td>18078918</td>\n",
       "      <td>92.59</td>\n",
       "      <td>2012-12-31 00:00:00+00:00</td>\n",
       "      <td>0.0</td>\n",
       "      <td>93.50</td>\n",
       "      <td>89.0100</td>\n",
       "      <td>89.38</td>\n",
       "      <td>1.0</td>\n",
       "      <td>2582700</td>\n",
       "    </tr>\n",
       "    <tr>\n",
       "      <th>202</th>\n",
       "      <td>13.144273</td>\n",
       "      <td>13.687129</td>\n",
       "      <td>12.955701</td>\n",
       "      <td>13.601415</td>\n",
       "      <td>19431319</td>\n",
       "      <td>92.01</td>\n",
       "      <td>2013-01-02 00:00:00+00:00</td>\n",
       "      <td>0.0</td>\n",
       "      <td>95.81</td>\n",
       "      <td>90.6900</td>\n",
       "      <td>95.21</td>\n",
       "      <td>1.0</td>\n",
       "      <td>2775900</td>\n",
       "    </tr>\n",
       "    <tr>\n",
       "      <th>203</th>\n",
       "      <td>13.798558</td>\n",
       "      <td>13.988557</td>\n",
       "      <td>13.075715</td>\n",
       "      <td>13.138558</td>\n",
       "      <td>27912527</td>\n",
       "      <td>96.59</td>\n",
       "      <td>2013-01-03 00:00:00+00:00</td>\n",
       "      <td>0.0</td>\n",
       "      <td>97.92</td>\n",
       "      <td>91.5301</td>\n",
       "      <td>91.97</td>\n",
       "      <td>1.0</td>\n",
       "      <td>3987500</td>\n",
       "    </tr>\n",
       "    <tr>\n",
       "      <th>204</th>\n",
       "      <td>13.711415</td>\n",
       "      <td>13.958557</td>\n",
       "      <td>13.648558</td>\n",
       "      <td>13.791415</td>\n",
       "      <td>17761117</td>\n",
       "      <td>95.98</td>\n",
       "      <td>2013-01-04 00:00:00+00:00</td>\n",
       "      <td>0.0</td>\n",
       "      <td>97.71</td>\n",
       "      <td>95.5400</td>\n",
       "      <td>96.54</td>\n",
       "      <td>1.0</td>\n",
       "      <td>2537300</td>\n",
       "    </tr>\n",
       "  </tbody>\n",
       "</table>\n",
       "</div>"
      ],
      "text/plain": [
       "      adjClose    adjHigh     adjLow    adjOpen  adjVolume  close  \\\n",
       "200  12.761416  12.935701  12.699987  12.828559   11123011  89.33   \n",
       "201  13.227130  13.357129  12.715702  12.768559   18078918  92.59   \n",
       "202  13.144273  13.687129  12.955701  13.601415   19431319  92.01   \n",
       "203  13.798558  13.988557  13.075715  13.138558   27912527  96.59   \n",
       "204  13.711415  13.958557  13.648558  13.791415   17761117  95.98   \n",
       "\n",
       "                         date  divCash   high      low   open  splitFactor  \\\n",
       "200 2012-12-28 00:00:00+00:00      0.0  90.55  88.9000  89.80          1.0   \n",
       "201 2012-12-31 00:00:00+00:00      0.0  93.50  89.0100  89.38          1.0   \n",
       "202 2013-01-02 00:00:00+00:00      0.0  95.81  90.6900  95.21          1.0   \n",
       "203 2013-01-03 00:00:00+00:00      0.0  97.92  91.5301  91.97          1.0   \n",
       "204 2013-01-04 00:00:00+00:00      0.0  97.71  95.5400  96.54          1.0   \n",
       "\n",
       "      volume  \n",
       "200  1589000  \n",
       "201  2582700  \n",
       "202  2775900  \n",
       "203  3987500  \n",
       "204  2537300  "
      ]
     },
     "execution_count": 15,
     "metadata": {},
     "output_type": "execute_result"
    }
   ],
   "source": [
    "# recall that the first approximately `burn_in` indices (~200 in this example)\n",
    "# come before the specified start date so there's enough data to calculate the\n",
    "# `burn_in`-day simple moving average when the real start date arrives\n",
    "smas.assets['NFLX']['df'][smas.burn_in:].head()"
   ]
  },
  {
   "cell_type": "code",
   "execution_count": 16,
   "metadata": {
    "scrolled": true
   },
   "outputs": [
    {
     "name": "stdout",
     "output_type": "stream",
     "text": [
      "**** on 2012-12-28 \n",
      "vol streak:  1 can enter: True days out: 1\n",
      "it's a total; sat_only is False; $10000.00 in account\n",
      "it's a satellite; sat_only is False; $10000.00 in account\n",
      "4: already in, balance in\n",
      "deltas: [389  23  66   8   0]\n",
      "bought 389 shares of NFLX @$12.83 | $5009.69 in account\n",
      "bought 23 shares of AAPL @$63.84 | $3541.33 in account\n",
      "bought 66 shares of MSFT @$22.60 | $2049.73 in account\n",
      "bought 8 shares of AMZN @$245.85 | $82.93 in account\n",
      "**** on 2013-02-27 \n",
      "vol streak:  41 can enter: True days out: 41\n",
      "it's a satellite; sat_only is True; $82.93 in account\n",
      "3: already in, remain in\n",
      "**** on 2013-04-29 \n",
      "vol streak:  83 can enter: True days out: 60\n",
      "it's a satellite; sat_only is True; $82.93 in account\n",
      "3: already in, remain in\n",
      "**** on 2013-06-28 \n",
      "vol streak:  126 can enter: True days out: 60\n",
      "it's a satellite; sat_only is True; $82.93 in account\n",
      "3: already in, remain in\n",
      "**** on 2013-08-30 \n",
      "vol streak:  170 can enter: True days out: 60\n",
      "it's a satellite; sat_only is True; $82.93 in account\n",
      "3: already in, remain in\n",
      "**** on 2013-10-30 \n",
      "vol streak:  212 can enter: True days out: 60\n",
      "it's a satellite; sat_only is True; $82.93 in account\n",
      "3: already in, remain in\n",
      "**** on 2013-12-30 \n",
      "vol streak:  253 can enter: True days out: 60\n",
      "it's a total; sat_only is False; $82.93 in account\n",
      "it's a satellite; sat_only is False; $82.93 in account\n",
      "4: already in, balance in\n",
      "deltas: [-128   34   61    5    0]\n",
      "sold 128 shares of NFLX @$52.52 | $6805.12 in account\n",
      "bought 34 shares of AAPL @$71.49 | $4374.48 in account\n",
      "bought 61 shares of MSFT @$32.44 | $2395.49 in account\n",
      "bought 5 shares of AMZN @$399.41 | $398.44 in account\n",
      "**** on 2014-02-27 \n",
      "vol streak:  293 can enter: True days out: 60\n",
      "it's a satellite; sat_only is True; $398.44 in account\n",
      "3: already in, remain in\n",
      "**** on 2014-04-29 \n",
      "vol streak:  335 can enter: True days out: 60\n",
      "it's a satellite; sat_only is True; $398.44 in account\n",
      "3: already in, remain in\n",
      "**** on 2014-06-27 \n",
      "vol streak:  377 can enter: True days out: 60\n",
      "it's a satellite; sat_only is True; $398.44 in account\n",
      "3: already in, remain in\n",
      "**** on 2014-08-29 \n",
      "vol streak:  421 can enter: True days out: 60\n",
      "it's a satellite; sat_only is True; $398.44 in account\n",
      "3: already in, remain in\n",
      "**** on 2014-10-30 \n",
      "vol streak:  8 can enter: False days out: 14\n",
      "it's a satellite; sat_only is True; $398.44 in account\n",
      "sold 13 shares of AMZN @293.98 | $4220.18 in account\n",
      "5: liq in, buy out\n",
      "bought 446 shares of VBMFX @9.46 | $0.60 in account\n",
      "**** on 2014-12-30 \n",
      "vol streak:  49 can enter: False days out: 55\n",
      "it's a total; sat_only is False; $0.60 in account\n",
      "it's a satellite; sat_only is False; $0.60 in account\n",
      "8: already out, balance out\n",
      "deltas: [ 29 -17 -28   0 148]\n",
      "sold 17 shares of AAPL @$104.16 | $1771.26 in account\n",
      "sold 28 shares of MSFT @$42.48 | $2960.59 in account\n",
      "bought 29 shares of NFLX @$48.71 | $1547.88 in account\n",
      "bought 148 shares of VBMFX @$9.51 | $139.89 in account\n",
      "0.517 s for time loop\n"
     ]
    }
   ],
   "source": [
    "# start the simulation. this prints out what happens on\n",
    "# every rebalance date in your date range (total and satellite)\n",
    "# (could probably use a 'verbose' flag)\n",
    "smas.begin_time_loop()"
   ]
  },
  {
   "cell_type": "code",
   "execution_count": 17,
   "metadata": {},
   "outputs": [
    {
     "name": "stdout",
     "output_type": "stream",
     "text": [
      "end date main portfolio value: $28,123.90\n",
      "end date main portfolio holdings: \n",
      "NFLX: 290, AAPL: 40, MSFT: 99, AMZN: 0, VBMFX: 594\n",
      "\n",
      "end date benchmark portfolio value: $28,123.90\n",
      "end date benchmark portfolio holdings: \n",
      "SPY: 42, AGG: 54\n",
      "\n"
     ]
    },
    {
     "data": {
      "image/png": "[encoded data removed]",
      "text/plain": [
       "<Figure size 720x720 with 1 Axes>"
      ]
     },
     "metadata": {
      "needs_background": "light"
     },
     "output_type": "display_data"
    }
   ],
   "source": [
    "# plot the results, and compare to the more conservative benchmark\n",
    "smas.plot_results()"
   ]
  },
  {
   "cell_type": "markdown",
   "metadata": {},
   "source": [
    "Naturally, this portfolio would have gone to the moon.\n",
    "\n",
    "**The idea from here is to try out different instances of `SMAStrategy` (or whichever strategy class) and vary assets, core/satellite allocations, dates, rebalance frequencies, etc. to see what would have led to the best historical results.**"
   ]
  }
 ],
 "metadata": {
  "kernelspec": {
   "display_name": "Python 3",
   "language": "python",
   "name": "python3"
  },
  "language_info": {
   "codemirror_mode": {
    "name": "ipython",
    "version": 3
   },
   "file_extension": ".py",
   "mimetype": "text/x-python",
   "name": "python",
   "nbconvert_exporter": "python",
   "pygments_lexer": "ipython3",
   "version": "3.7.3"
  }
 },
 "nbformat": 4,
 "nbformat_minor": 2
}
