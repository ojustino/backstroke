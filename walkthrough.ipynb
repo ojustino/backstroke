{
 "cells": [
  {
   "cell_type": "markdown",
   "metadata": {},
   "source": [
    "# A how-to for creating portfolios and simulating strategies with `backstroke`.\n",
    "\n",
    "`backstroke` is a package for **writing custom investment `Strategy` classes** and **backtesting the simualted portfolios** based on them.\n",
    "\n",
    "In practice, you define your desired assets and allocations in a `PortfolioMaker` instance, then pass the result to a `Strategy` to run the simulation. `backstroke` comes pre-equipped with a few `Strategy` classes; **in this walkthrough, we'll take a closer look at `SMAStrategy`**, which makes decisions on how to invest based on how a tracked asset's simple moving average (SMA) compares to its current price.\n",
    "\n",
    "_While you do need some domain knowledge to run the package yourself, **no financial background is needed to follow this tutorial**, so read on to learn more about `backstroke` and I'll try to fill in the blanks where it's pertinent._"
   ]
  },
  {
   "cell_type": "markdown",
   "metadata": {},
   "source": [
    "___\n",
    "## Experimenting with `PortfolioMaker`. 💧\n",
    "\n",
    "Before we use `SMAStrategy`, we have to build a `PortfolioMaker` instance with information about the assets we'll include in the portfolio."
   ]
  },
  {
   "cell_type": "code",
   "execution_count": 1,
   "metadata": {},
   "outputs": [],
   "source": [
    "from portfolio_maker import PortfolioMaker"
   ]
  },
  {
   "cell_type": "markdown",
   "metadata": {},
   "source": [
    "**`PortfiolioMaker` instances follow a core/satellite model** where core assets' target portfolio fractions remain fixed over time but satellite assets' allocations are allowed to vary based on market conditions. To get things started, **we'll use a 60/40 split**."
   ]
  },
  {
   "cell_type": "code",
   "execution_count": 11,
   "metadata": {},
   "outputs": [],
   "source": [
    "pf = PortfolioMaker(sat_frac=.4, relative_core_frac=True)"
   ]
  },
  {
   "cell_type": "markdown",
   "metadata": {},
   "source": [
    "We **divide the core portion** of the portfolio as follows:\n",
    "- **50% in VUG** (large, US-based companies with explosive growth potential)\n",
    "- **15% in VO** (mid-sized, US-based companies)\n",
    "- **15% in EFG** (large, non-US companies with explosive growth potential)\n",
    "- **15% in VBIIX** (intermediate term, highly graded bonds)\n",
    "- **5% in ISHIX** (intermediate term, riskier bonds)\n",
    "\n",
    "_(Again, don't worry if you're not familiar with these assets/terms.)_"
   ]
  },
  {
   "cell_type": "code",
   "execution_count": 12,
   "metadata": {},
   "outputs": [],
   "source": [
    "pf.add_ticker('VUG', .5, label='core')\n",
    "pf.add_ticker('VO', .15, label='core')\n",
    "pf.add_ticker('EFG', .15, label='core')\n",
    "pf.add_ticker('VBIIX', .15, label='core')\n",
    "pf.add_ticker('ISHIX', .05, label='core')"
   ]
  },
  {
   "cell_type": "markdown",
   "metadata": {},
   "source": [
    "_Note: You can edit a core asset's fraction after adding it to `PortfolioMaker` with the `edit_ticker_fraction()` method._"
   ]
  },
  {
   "cell_type": "markdown",
   "metadata": {},
   "source": [
    "Satellite assets take an `'in_market'` argument instead of a fraction. It's typically `True` for riskier assets and `False` for safer ones.\n",
    "\n",
    "Here, the **satellite portion** will contain:\n",
    "- **SSO as the in-market asset** (riskier: leveraged 2x to the S&P 500's daily returns)\n",
    "- **TLT as the out-market asset** (safer: long term US Treasury bonds)"
   ]
  },
  {
   "cell_type": "code",
   "execution_count": 14,
   "metadata": {},
   "outputs": [],
   "source": [
    "pf.add_ticker('SSO', label='satellite', in_market=True)\n",
    "pf.add_ticker('TLT', label='satellite', in_market=False)"
   ]
  },
  {
   "cell_type": "markdown",
   "metadata": {},
   "source": [
    "_Note: You can edit a satellite asset's market status after adding it to `PortfolioMaker` with the `edit_ticker_mkt_status()` method. Remove tickers of any label with `remove_ticker()`._"
   ]
  },
  {
   "cell_type": "markdown",
   "metadata": {},
   "source": [
    "`Strategy` classes can also take a **benchmark portfolio** to compare to the core/satellite. Besides their different labels, benchmark and core assets function similarly in `PortfolioMaker`. We'll choose a benchmark that matches standard beginner advice in investing.\n",
    "\n",
    "**Important for `SMAStrategy`: one of the assets must have a 'track' attribute**, so we'll place it on SPY since it's often used as a gauge for how the market is doing as a whole."
   ]
  },
  {
   "cell_type": "code",
   "execution_count": 15,
   "metadata": {},
   "outputs": [],
   "source": [
    "pf.add_ticker('SPY', .6, label='benchmark', track=True) # tracks the S&P 500\n",
    "pf.add_ticker('AGG', .4, label='benchmark') # the total US bond market"
   ]
  },
  {
   "cell_type": "markdown",
   "metadata": {},
   "source": [
    "Finally, you can **check that `PortfolioMaker` objects are ready for use in a `Strategy`**. If no error is raised, we can move on to the next section."
   ]
  },
  {
   "cell_type": "code",
   "execution_count": 16,
   "metadata": {},
   "outputs": [
    {
     "name": "stdout",
     "output_type": "stream",
     "text": [
      "core assets and target holding fraction(s):\n",
      "30.00000% in VUG\n",
      "9.00000% in VO\n",
      "9.00000% in EFG\n",
      "9.00000% in VBIIX\n",
      "3.00000% in ISHIX\n",
      "*** 60.00000% in core overall ***\n",
      "----------------\n",
      "satellite assets and target holding fraction(s):\n",
      "in-market asset:     SSO\n",
      "out-of-market asset: TLT\n",
      "*** 40.00000% in satellite overall ***\n",
      "----------------\n",
      "-----passed-----\n",
      "----------------\n",
      "benchmark assets and target holding fraction(s):\n",
      "60.00000% in SPY\n",
      "40.00000% in AGG\n",
      "*** 100.00000% in benchmark overall ***\n",
      "----------------\n",
      "-----passed-----\n",
      "\n"
     ]
    }
   ],
   "source": [
    "pf.check_assets()"
   ]
  },
  {
   "cell_type": "markdown",
   "metadata": {},
   "source": [
    "## Simulating a `Strategy`. 💧\n",
    "\n",
    "**Once the portfolio is ready to go, we can create an instance of `SMAStrategy`.**\n",
    "\n",
    "As a reminder, this `Strategy` places all of its portfolio's satellite portion into either the in-market or out-market asset depending on how a tracked asset's current price (in our case, SPY) compares to its simple moving average.\n",
    "\n",
    "_For more information on arguments and why this is a sensible approach, read the docstrings for `SMAStrategy` and `HistoricalSimulator` after importing them below by clicking either name in a code cell and pressing `Shift`+`Tab`._"
   ]
  },
  {
   "cell_type": "code",
   "execution_count": 19,
   "metadata": {},
   "outputs": [],
   "source": [
    "from simulator import HistoricalSimulator\n",
    "from strategies import SMAStrategy\n",
    "import pandas as pd"
   ]
  },
  {
   "cell_type": "markdown",
   "metadata": {},
   "source": [
    "**We include `pf` as the first argument**. With the others, we specify:\n",
    "- ...that the `Strategy` will make decisions based on its tracked asset's **200 day SMA**;\n",
    "- ...that we'll start the portfolio off with **$10,000 in cash**;\n",
    "- ...that the simulation will cover **June 1, 2007 through June 1, 2015**.\n",
    "- ...that **the satellite portion will be rebalanced six times a year**, or every other month;\n",
    "- ...that **the total portfolio will be rebalanced three times a year**, or every four months;\n",
    "- ...that rebalances should happen on the **second-to-last market day** of eligible months.\n",
    "- ...and that **any dividends are reinvested** back into the assets from which they came."
   ]
  },
  {
   "cell_type": "code",
   "execution_count": 20,
   "metadata": {
    "scrolled": true
   },
   "outputs": [
    {
     "name": "stdout",
     "output_type": "stream",
     "text": [
      "core assets and target holding fraction(s):\n",
      "30.00000% in VUG\n",
      "9.00000% in VO\n",
      "9.00000% in EFG\n",
      "9.00000% in VBIIX\n",
      "3.00000% in ISHIX\n",
      "*** 60.00000% in core overall ***\n",
      "----------------\n",
      "satellite assets and target holding fraction(s):\n",
      "in-market asset:     SSO\n",
      "out-of-market asset: TLT\n",
      "*** 40.00000% in satellite overall ***\n",
      "----------------\n",
      "-----passed-----\n",
      "----------------\n",
      "benchmark assets and target holding fraction(s):\n",
      "60.00000% in SPY\n",
      "40.00000% in AGG\n",
      "*** 100.00000% in benchmark overall ***\n",
      "----------------\n",
      "-----passed-----\n",
      "\n",
      "VUG from 2006-08-11 to 2015-06-01...\n",
      "VO from 2006-08-11 to 2015-06-01...\n",
      "EFG from 2006-08-11 to 2015-06-01...\n",
      "VBIIX from 2006-08-11 to 2015-06-01...\n",
      "ISHIX from 2006-08-11 to 2015-06-01...\n",
      "SSO from 2006-08-11 to 2015-06-01...\n",
      "TLT from 2006-08-11 to 2015-06-01...\n",
      "SPY from 2006-08-11 to 2015-06-01...\n",
      "AGG from 2006-08-11 to 2015-06-01...\n",
      "sat [ 8 12  4] \n",
      "tot [10  2  6]\n",
      "[ 6  7  8  9 10 11 12] 2007\n",
      "[ 1  2  3  4  5  6  7  8  9 10 11 12] 2008\n",
      "[ 1  2  3  4  5  6  7  8  9 10 11 12] 2009\n",
      "[ 1  2  3  4  5  6  7  8  9 10 11 12] 2010\n",
      "[ 1  2  3  4  5  6  7  8  9 10 11 12] 2011\n",
      "[ 1  2  3  4  5  6  7  8  9 10 11 12] 2012\n",
      "[ 1  2  3  4  5  6  7  8  9 10 11 12] 2013\n",
      "[ 1  2  3  4  5  6  7  8  9 10 11 12] 2014\n",
      "[1 2 3 4 5 6] 2015\n"
     ]
    }
   ],
   "source": [
    "sim = SMAStrategy(pf, burn_in=200, cash=1e4,\n",
    "                  start_date=pd.Timestamp(2007, 6, 1),\n",
    "                  end_date=pd.Timestamp(2015, 6, 1),\n",
    "                  sat_rb_freq=6, tot_rb_freq=3, target_rb_day=-2\n",
    "                  reinvest_dividends=True)"
   ]
  },
  {
   "cell_type": "markdown",
   "metadata": {},
   "source": [
    "**The main attribute to note is `assets`**, a nested dictionary organized by asset name. Individual asset dictionaries contain the number of shares currently held, downloaded price data, and the attributes we specified in `PortfolioMaker`."
   ]
  },
  {
   "cell_type": "code",
   "execution_count": 23,
   "metadata": {},
   "outputs": [
    {
     "data": {
      "text/plain": [
       "['VUG', 'VO', 'EFG', 'VBIIX', 'ISHIX', 'SSO', 'TLT', 'SPY', 'AGG']"
      ]
     },
     "execution_count": 23,
     "metadata": {},
     "output_type": "execute_result"
    }
   ],
   "source": [
    "list(sim.assets.keys())"
   ]
  },
  {
   "cell_type": "code",
   "execution_count": 24,
   "metadata": {},
   "outputs": [
    {
     "data": {
      "text/html": [
       "<div>\n",
       "<style scoped>\n",
       "    .dataframe tbody tr th:only-of-type {\n",
       "        vertical-align: middle;\n",
       "    }\n",
       "\n",
       "    .dataframe tbody tr th {\n",
       "        vertical-align: top;\n",
       "    }\n",
       "\n",
       "    .dataframe thead th {\n",
       "        text-align: right;\n",
       "    }\n",
       "</style>\n",
       "<table border=\"1\" class=\"dataframe\">\n",
       "  <thead>\n",
       "    <tr style=\"text-align: right;\">\n",
       "      <th></th>\n",
       "      <th>close</th>\n",
       "      <th>high</th>\n",
       "      <th>low</th>\n",
       "      <th>open</th>\n",
       "      <th>volume</th>\n",
       "      <th>adjClose</th>\n",
       "      <th>adjHigh</th>\n",
       "      <th>adjLow</th>\n",
       "      <th>adjOpen</th>\n",
       "      <th>adjVolume</th>\n",
       "      <th>divCash</th>\n",
       "      <th>splitFactor</th>\n",
       "    </tr>\n",
       "    <tr>\n",
       "      <th>date</th>\n",
       "      <th></th>\n",
       "      <th></th>\n",
       "      <th></th>\n",
       "      <th></th>\n",
       "      <th></th>\n",
       "      <th></th>\n",
       "      <th></th>\n",
       "      <th></th>\n",
       "      <th></th>\n",
       "      <th></th>\n",
       "      <th></th>\n",
       "      <th></th>\n",
       "    </tr>\n",
       "  </thead>\n",
       "  <tbody>\n",
       "    <tr>\n",
       "      <th>2006-08-11</th>\n",
       "      <td>51.33</td>\n",
       "      <td>51.56</td>\n",
       "      <td>51.16</td>\n",
       "      <td>51.56</td>\n",
       "      <td>90900</td>\n",
       "      <td>43.208294</td>\n",
       "      <td>43.401903</td>\n",
       "      <td>43.065193</td>\n",
       "      <td>43.401903</td>\n",
       "      <td>90900</td>\n",
       "      <td>0.0</td>\n",
       "      <td>1.0</td>\n",
       "    </tr>\n",
       "    <tr>\n",
       "      <th>2006-08-14</th>\n",
       "      <td>51.40</td>\n",
       "      <td>51.91</td>\n",
       "      <td>51.40</td>\n",
       "      <td>51.75</td>\n",
       "      <td>53900</td>\n",
       "      <td>43.267219</td>\n",
       "      <td>43.696524</td>\n",
       "      <td>43.267219</td>\n",
       "      <td>43.561840</td>\n",
       "      <td>53900</td>\n",
       "      <td>0.0</td>\n",
       "      <td>1.0</td>\n",
       "    </tr>\n",
       "    <tr>\n",
       "      <th>2006-08-15</th>\n",
       "      <td>52.28</td>\n",
       "      <td>52.28</td>\n",
       "      <td>51.80</td>\n",
       "      <td>52.10</td>\n",
       "      <td>81300</td>\n",
       "      <td>44.007980</td>\n",
       "      <td>44.007980</td>\n",
       "      <td>43.603928</td>\n",
       "      <td>43.856461</td>\n",
       "      <td>81300</td>\n",
       "      <td>0.0</td>\n",
       "      <td>1.0</td>\n",
       "    </tr>\n",
       "    <tr>\n",
       "      <th>2006-08-16</th>\n",
       "      <td>52.97</td>\n",
       "      <td>53.00</td>\n",
       "      <td>52.46</td>\n",
       "      <td>52.56</td>\n",
       "      <td>43900</td>\n",
       "      <td>44.588805</td>\n",
       "      <td>44.614058</td>\n",
       "      <td>44.159500</td>\n",
       "      <td>44.243677</td>\n",
       "      <td>43900</td>\n",
       "      <td>0.0</td>\n",
       "      <td>1.0</td>\n",
       "    </tr>\n",
       "    <tr>\n",
       "      <th>2006-08-17</th>\n",
       "      <td>53.10</td>\n",
       "      <td>53.29</td>\n",
       "      <td>52.89</td>\n",
       "      <td>53.00</td>\n",
       "      <td>72500</td>\n",
       "      <td>44.698236</td>\n",
       "      <td>44.858173</td>\n",
       "      <td>44.521463</td>\n",
       "      <td>44.614058</td>\n",
       "      <td>72500</td>\n",
       "      <td>0.0</td>\n",
       "      <td>1.0</td>\n",
       "    </tr>\n",
       "  </tbody>\n",
       "</table>\n",
       "</div>"
      ],
      "text/plain": [
       "            close   high    low   open  volume   adjClose    adjHigh  \\\n",
       "date                                                                   \n",
       "2006-08-11  51.33  51.56  51.16  51.56   90900  43.208294  43.401903   \n",
       "2006-08-14  51.40  51.91  51.40  51.75   53900  43.267219  43.696524   \n",
       "2006-08-15  52.28  52.28  51.80  52.10   81300  44.007980  44.007980   \n",
       "2006-08-16  52.97  53.00  52.46  52.56   43900  44.588805  44.614058   \n",
       "2006-08-17  53.10  53.29  52.89  53.00   72500  44.698236  44.858173   \n",
       "\n",
       "               adjLow    adjOpen  adjVolume  divCash  splitFactor  \n",
       "date                                                               \n",
       "2006-08-11  43.065193  43.401903      90900      0.0          1.0  \n",
       "2006-08-14  43.267219  43.561840      53900      0.0          1.0  \n",
       "2006-08-15  43.603928  43.856461      81300      0.0          1.0  \n",
       "2006-08-16  44.159500  44.243677      43900      0.0          1.0  \n",
       "2006-08-17  44.521463  44.614058      72500      0.0          1.0  "
      ]
     },
     "execution_count": 24,
     "metadata": {},
     "output_type": "execute_result"
    }
   ],
   "source": [
    "sim.assets['VUG']['df'].head()"
   ]
  },
  {
   "cell_type": "markdown",
   "metadata": {},
   "source": [
    "We can now **run the simulation in one line**.\n",
    "\n",
    "_Note: i) to see a log of transactions, add `verbose=True` as an argument. ii) Keep in mind that each class instance is only good for one simulation._"
   ]
  },
  {
   "cell_type": "code",
   "execution_count": 26,
   "metadata": {
    "scrolled": true
   },
   "outputs": [],
   "source": [
    "sim.begin_time_loop()"
   ]
  },
  {
   "cell_type": "markdown",
   "metadata": {},
   "source": [
    "From here, we can **plot and compare our portfolio's results against the benchmark**."
   ]
  },
  {
   "cell_type": "code",
   "execution_count": 28,
   "metadata": {},
   "outputs": [
    {
     "name": "stdout",
     "output_type": "stream",
     "text": [
      "end date main portfolio value: $24,744.55\n",
      "end date main portfolio shares: \n",
      "VUG: 71.8, VO: 18.3, EFG: 33.6, VBIIX: 223.6, ISHIX: 96.7, SSO: 149.6, TLT: 0.0\n",
      "\n",
      "end date benchmark portfolio value: $20,730.05\n",
      "end date benchmark portfolio shares: \n",
      "SPY: 65.4, AGG: 84.8\n"
     ]
    },
    {
     "data": {
      "image/png": "[encoded data removed]",
      "text/plain": [
       "<Figure size 720x720 with 1 Axes>"
      ]
     },
     "metadata": {
      "needs_background": "light"
     },
     "output_type": "display_data"
    }
   ],
   "source": [
    "sim.plot_results()"
   ]
  },
  {
   "cell_type": "markdown",
   "metadata": {},
   "source": [
    "___\n",
    "## The idea from here...\n",
    "...is to try out different `Strategy` instances and vary assets, core/satellite allocations, dates, rebalance frequencies, and so on to **perhaps translate what you've learned to your real-life investments**. As long as they inherit from `HistoricalSimulator`, you may also **create `Strategy` classes that follow your own logic** and see how they perform.\n",
    "\n",
    "If you're interested in seeing how another, simpler strategy works, take a look at [`buy_and_hold.ipynb`](buy_and_hold.ipynb)."
   ]
  }
 ],
 "metadata": {
  "kernelspec": {
   "display_name": "Python 3",
   "language": "python",
   "name": "python3"
  },
  "language_info": {
   "codemirror_mode": {
    "name": "ipython",
    "version": 3
   },
   "file_extension": ".py",
   "mimetype": "text/x-python",
   "name": "python",
   "nbconvert_exporter": "python",
   "pygments_lexer": "ipython3",
   "version": "3.7.6"
  }
 },
 "nbformat": 4,
 "nbformat_minor": 4
}
